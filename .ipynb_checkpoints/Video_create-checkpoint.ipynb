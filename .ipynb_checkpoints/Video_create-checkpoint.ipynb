{
 "cells": [
  {
   "cell_type": "code",
   "execution_count": 5,
   "id": "7617e9d9",
   "metadata": {},
   "outputs": [],
   "source": [
    "import requests\n",
    "import cv2\n",
    "import numpy as np"
   ]
  },
  {
   "cell_type": "code",
   "execution_count": 6,
   "id": "341b6bca",
   "metadata": {},
   "outputs": [],
   "source": [
    "img = cv2.imread(\"sample.jpg\", cv2.IMREAD_COLOR)"
   ]
  },
  {
   "cell_type": "code",
   "execution_count": 7,
   "id": "dee9042c",
   "metadata": {},
   "outputs": [],
   "source": [
    "def display_image(img):\n",
    "    # Window name in which image is displayed\n",
    "    window_name = 'image'\n",
    "\n",
    "    # Using cv2.imshow() method\n",
    "    # Displaying the image\n",
    "    cv2.imshow(window_name, img)\n",
    "\n",
    "    # waits for user to press any key\n",
    "    # (this is necessary to avoid Python kernel form crashing)\n",
    "    cv2.waitKey(0)\n",
    "\n",
    "    # closing all open windows\n",
    "    cv2.destroyAllWindows()"
   ]
  },
  {
   "cell_type": "code",
   "execution_count": 8,
   "id": "78ce7a6a",
   "metadata": {},
   "outputs": [],
   "source": [
    "def zoom_at(img, zoom=1, angle=0, coord=None):\n",
    "    \n",
    "    cy, cx = [ i/2 for i in img.shape[:-1] ] if coord is None else coord[::-1]\n",
    "    \n",
    "    rot_mat = cv2.getRotationMatrix2D((cx,cy), angle, zoom)\n",
    "    result = cv2.warpAffine(img, rot_mat, img.shape[1::-1], flags=cv2.INTER_LINEAR)\n",
    "    \n",
    "    return result"
   ]
  },
  {
   "cell_type": "code",
   "execution_count": 40,
   "id": "d71eb41e",
   "metadata": {},
   "outputs": [],
   "source": [
    "# Video Generating function\n",
    "def generate_video(images, shape, num_frames):\n",
    "    image_folder = '.' # make sure to use your folder\n",
    "    video_name = 'mygeneratedvideo.avi'\n",
    "    video = cv2.VideoWriter(video_name, cv2.VideoWriter_fourcc(*'MJPG'), num_frames, (shape[1], shape[0]))\n",
    "\n",
    "    # Appending the images to the video one by one\n",
    "    for image in images:\n",
    "        video.write(image)\n",
    "    video.release() # releasing the video generated"
   ]
  },
  {
   "cell_type": "code",
   "execution_count": 6,
   "id": "7b42ac69",
   "metadata": {},
   "outputs": [],
   "source": [
    "img_zoom = zoom_at(img, zoom=2)"
   ]
  },
  {
   "cell_type": "code",
   "execution_count": 8,
   "id": "1bbd761c",
   "metadata": {},
   "outputs": [],
   "source": [
    "display_image(img)"
   ]
  },
  {
   "cell_type": "code",
   "execution_count": 7,
   "id": "51d6027d",
   "metadata": {},
   "outputs": [],
   "source": [
    "display_image(img_zoom)"
   ]
  },
  {
   "cell_type": "code",
   "execution_count": 43,
   "id": "ce21e31e",
   "metadata": {},
   "outputs": [],
   "source": [
    "images = [zoom_at(img, zoom=i) for i in np.arange(1, 2, 0.01)]"
   ]
  },
  {
   "cell_type": "code",
   "execution_count": 44,
   "id": "92d422b2",
   "metadata": {},
   "outputs": [],
   "source": [
    "generate_video(images, img.shape[:2], 5)"
   ]
  },
  {
   "cell_type": "code",
   "execution_count": 9,
   "id": "e3159ee9",
   "metadata": {},
   "outputs": [
    {
     "name": "stdout",
     "output_type": "stream",
     "text": [
      "600 396\n",
      "sample.jpg  is resized\n"
     ]
    },
    {
     "ename": "FileNotFoundError",
     "evalue": "[Errno 2] No such file or directory: 'C:\\\\Python\\\\Geekfolder2'",
     "output_type": "error",
     "traceback": [
      "\u001b[0;31m---------------------------------------------------------------------------\u001b[0m",
      "\u001b[0;31mFileNotFoundError\u001b[0m                         Traceback (most recent call last)",
      "Input \u001b[0;32mIn [9]\u001b[0m, in \u001b[0;36m<module>\u001b[0;34m\u001b[0m\n\u001b[1;32m     72\u001b[0m     video\u001b[38;5;241m.\u001b[39mrelease()  \u001b[38;5;66;03m# releasing the video generated\u001b[39;00m\n\u001b[1;32m     75\u001b[0m \u001b[38;5;66;03m# Calling the generate_video function\u001b[39;00m\n\u001b[0;32m---> 76\u001b[0m \u001b[43mgenerate_video\u001b[49m\u001b[43m(\u001b[49m\u001b[43m)\u001b[49m\n",
      "Input \u001b[0;32mIn [9]\u001b[0m, in \u001b[0;36mgenerate_video\u001b[0;34m()\u001b[0m\n\u001b[1;32m     45\u001b[0m image_folder \u001b[38;5;241m=\u001b[39m \u001b[38;5;124m'\u001b[39m\u001b[38;5;124m.\u001b[39m\u001b[38;5;124m'\u001b[39m \u001b[38;5;66;03m# make sure to use your folder\u001b[39;00m\n\u001b[1;32m     46\u001b[0m video_name \u001b[38;5;241m=\u001b[39m \u001b[38;5;124m'\u001b[39m\u001b[38;5;124mmygeneratedvideo.avi\u001b[39m\u001b[38;5;124m'\u001b[39m\n\u001b[0;32m---> 47\u001b[0m \u001b[43mos\u001b[49m\u001b[38;5;241;43m.\u001b[39;49m\u001b[43mchdir\u001b[49m\u001b[43m(\u001b[49m\u001b[38;5;124;43m\"\u001b[39;49m\u001b[38;5;124;43mC:\u001b[39;49m\u001b[38;5;130;43;01m\\\\\u001b[39;49;00m\u001b[38;5;124;43mPython\u001b[39;49m\u001b[38;5;130;43;01m\\\\\u001b[39;49;00m\u001b[38;5;124;43mGeekfolder2\u001b[39;49m\u001b[38;5;124;43m\"\u001b[39;49m\u001b[43m)\u001b[49m\n\u001b[1;32m     49\u001b[0m images \u001b[38;5;241m=\u001b[39m [img \u001b[38;5;28;01mfor\u001b[39;00m img \u001b[38;5;129;01min\u001b[39;00m os\u001b[38;5;241m.\u001b[39mlistdir(image_folder)\n\u001b[1;32m     50\u001b[0m           \u001b[38;5;28;01mif\u001b[39;00m img\u001b[38;5;241m.\u001b[39mendswith(\u001b[38;5;124m\"\u001b[39m\u001b[38;5;124m.jpg\u001b[39m\u001b[38;5;124m\"\u001b[39m) \u001b[38;5;129;01mor\u001b[39;00m\n\u001b[1;32m     51\u001b[0m              img\u001b[38;5;241m.\u001b[39mendswith(\u001b[38;5;124m\"\u001b[39m\u001b[38;5;124m.jpeg\u001b[39m\u001b[38;5;124m\"\u001b[39m) \u001b[38;5;129;01mor\u001b[39;00m\n\u001b[1;32m     52\u001b[0m              img\u001b[38;5;241m.\u001b[39mendswith(\u001b[38;5;124m\"\u001b[39m\u001b[38;5;124mpng\u001b[39m\u001b[38;5;124m\"\u001b[39m)]\n\u001b[1;32m     54\u001b[0m \u001b[38;5;66;03m# Array images should only consider\u001b[39;00m\n\u001b[1;32m     55\u001b[0m \u001b[38;5;66;03m# the image files ignoring others if any\u001b[39;00m\n",
      "\u001b[0;31mFileNotFoundError\u001b[0m: [Errno 2] No such file or directory: 'C:\\\\Python\\\\Geekfolder2'"
     ]
    }
   ],
   "source": [
    "# importing libraries\n",
    "import os\n",
    "import cv2\n",
    "from PIL import Image\n",
    "\n",
    "# Checking the current directory path\n",
    "print(os.getcwd())\n",
    "\n",
    "# Folder which contains all the images\n",
    "# from which video is to be generated\n",
    "os.chdir(\"C:\\\\Python\\\\Geekfolder2\")\n",
    "path = \"C:\\\\Python\\\\Geekfolder2\"\n",
    "\n",
    "mean_height = 0\n",
    "mean_width = 0\n",
    "\n",
    "num_of_images = len(os.listdir('.'))\n",
    "# print(num_of_images)\n",
    "\n",
    "for file in os.listdir('.'):\n",
    "\tim = Image.open(os.path.join(path, file))\n",
    "\twidth, height = im.size\n",
    "\tmean_width += width\n",
    "\tmean_height += height\n",
    "\t# im.show() # uncomment this for displaying the image\n",
    "\n",
    "# Finding the mean height and width of all images.\n",
    "# This is required because the video frame needs\n",
    "# to be set with same width and height. Otherwise\n",
    "# images not equal to that width height will not get\n",
    "# embedded into the video\n",
    "mean_width = int(mean_width / num_of_images)\n",
    "mean_height = int(mean_height / num_of_images)\n",
    "\n",
    "# print(mean_height)\n",
    "# print(mean_width)\n",
    "\n",
    "# Resizing of the images to give\n",
    "# them same width and height\n",
    "for file in os.listdir('.'):\n",
    "\tif file.endswith(\".jpg\") or file.endswith(\".jpeg\") or file.endswith(\"png\"):\n",
    "\t\t# opening image using PIL Image\n",
    "\t\tim = Image.open(os.path.join(path, file))\n",
    "\n",
    "\t\t# im.size includes the height and width of image\n",
    "\t\twidth, height = im.size\n",
    "\t\tprint(width, height)\n",
    "\n",
    "\t\t# resizing\n",
    "\t\timResize = im.resize((mean_width, mean_height), Image.ANTIALIAS)\n",
    "\t\timResize.save( file, 'JPEG', quality = 95) # setting quality\n",
    "\t\t# printing each resized image name\n",
    "\t\tprint(im.filename.split('\\\\')[-1], \" is resized\")\n",
    "\n",
    "\n",
    "# Video Generating function\n",
    "def generate_video():\n",
    "\timage_folder = '.' # make sure to use your folder\n",
    "\tvideo_name = 'mygeneratedvideo.avi'\n",
    "\tos.chdir(\"C:\\\\Python\\\\Geekfolder2\")\n",
    "\t\n",
    "\timages = [img for img in os.listdir(image_folder)\n",
    "\t\t\tif img.endswith(\".jpg\") or\n",
    "\t\t\t\timg.endswith(\".jpeg\") or\n",
    "\t\t\t\timg.endswith(\"png\")]\n",
    "\t\n",
    "\t# Array images should only consider\n",
    "\t# the image files ignoring others if any\n",
    "\tprint(images)\n",
    "\n",
    "\tframe = cv2.imread(os.path.join(image_folder, images[0]))\n",
    "\n",
    "\t# setting the frame width, height width\n",
    "\t# the width, height of first image\n",
    "\theight, width, layers = frame.shape\n",
    "\n",
    "\tvideo = cv2.VideoWriter(video_name, 0, 1, (width, height))\n",
    "\n",
    "\t# Appending the images to the video one by one\n",
    "\tfor image in images:\n",
    "\t\tvideo.write(cv2.imread(os.path.join(image_folder, image)))\n",
    "\t\n",
    "\t# Deallocating memories taken for window creation\n",
    "\tcv2.destroyAllWindows()\n",
    "\tvideo.release() # releasing the video generated\n",
    "\n",
    "\n",
    "# Calling the generate_video function\n",
    "generate_video()\n"
   ]
  }
 ],
 "metadata": {
  "kernelspec": {
   "display_name": "GBNN",
   "language": "python",
   "name": "gbnn"
  },
  "language_info": {
   "codemirror_mode": {
    "name": "ipython",
    "version": 3
   },
   "file_extension": ".py",
   "mimetype": "text/x-python",
   "name": "python",
   "nbconvert_exporter": "python",
   "pygments_lexer": "ipython3",
   "version": "3.8.10"
  }
 },
 "nbformat": 4,
 "nbformat_minor": 5
}
