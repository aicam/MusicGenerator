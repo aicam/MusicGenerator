{
 "cells": [
  {
   "cell_type": "code",
   "execution_count": 7,
   "id": "1fb50aef",
   "metadata": {},
   "outputs": [],
   "source": [
    "import base64\n",
    "import os\n",
    "import requests\n",
    "\n",
    "engine_id = \"stable-diffusion-v1-5\"\n",
    "api_host = os.getenv(\"API_HOST\", \"https://api.stability.ai\")\n",
    "api_key = os.getenv(\"STABILITY_API_KEY\", \"sk-YQm8q5PyFsgTtEZtQpkY7lIoXr56TxC0Pk41evCnJMcXKozk\")\n",
    "\n",
    "if api_key is None:\n",
    "    raise Exception(\"Missing Stability API key.\")\n",
    "\n",
    "response = requests.post(\n",
    "    f\"{api_host}/v1/generation/{engine_id}/image-to-image\",\n",
    "    headers={\n",
    "        \"Accept\": \"application/json\",\n",
    "        \"Authorization\": f\"Bearer {api_key}\"\n",
    "    },\n",
    "    files={\n",
    "        \"init_image\": open(\"./sample_1_320x320.jpg\", \"rb\")\n",
    "    },\n",
    "    data={\n",
    "        \"image_strength\": 0.98,\n",
    "        \"init_image_mode\": \"IMAGE_STRENGTH\",\n",
    "        \"text_prompts[0][text]\": \"\",\n",
    "    }\n",
    ")\n",
    "\n",
    "if response.status_code != 200:\n",
    "    raise Exception(\"Non-200 response: \" + str(response.text))\n",
    "\n",
    "data = response.json()\n",
    "\n",
    "for i, image in enumerate(data[\"artifacts\"]):\n",
    "    with open(f\"./v1_img2img_{i}.png\", \"wb\") as f:\n",
    "        f.write(base64.b64decode(image[\"base64\"]))"
   ]
  }
 ],
 "metadata": {
  "kernelspec": {
   "display_name": "GBNN",
   "language": "python",
   "name": "gbnn"
  },
  "language_info": {
   "codemirror_mode": {
    "name": "ipython",
    "version": 3
   },
   "file_extension": ".py",
   "mimetype": "text/x-python",
   "name": "python",
   "nbconvert_exporter": "python",
   "pygments_lexer": "ipython3",
   "version": "3.8.10"
  }
 },
 "nbformat": 4,
 "nbformat_minor": 5
}
